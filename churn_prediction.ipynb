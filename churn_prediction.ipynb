{
  "nbformat": 4,
  "nbformat_minor": 0,
  "metadata": {
    "colab": {
      "name": "churn-prediction.ipynb",
      "provenance": [],
      "authorship_tag": "ABX9TyPh+ssHCsesgelepIwghKLi",
      "include_colab_link": true
    },
    "kernelspec": {
      "name": "python3",
      "display_name": "Python 3"
    },
    "language_info": {
      "name": "python"
    }
  },
  "cells": [
    {
      "cell_type": "markdown",
      "metadata": {
        "id": "view-in-github",
        "colab_type": "text"
      },
      "source": [
        "<a href=\"https://colab.research.google.com/github/austinjhunt/assign03-50-hunt/blob/main/churn_prediction.ipynb\" target=\"_parent\"><img src=\"https://colab.research.google.com/assets/colab-badge.svg\" alt=\"Open In Colab\"/></a>"
      ]
    },
    {
      "cell_type": "code",
      "execution_count": null,
      "metadata": {
        "id": "ebb6ebSMOVdK"
      },
      "outputs": [],
      "source": [
        ""
      ]
    },
    {
      "cell_type": "markdown",
      "source": [
        "# CS 5262 Homework 3 Assignment Description\n",
        "## Deadline: Wednesday 6/1 11:59PM (CDT) This is extended\n",
        "\n",
        "### I. Purpose:\n",
        "Gain experience applying scikit learn to machine learning problems\n",
        "\n",
        "### II. Grading and Submission\n",
        "The assignment will be evaluated in a total of 60 points The assignment is in the form of a GitHub repository. Work must be completed by the deadline stated above.\n",
        "\n",
        "### III. Tasks:\n",
        "* Create a new repository using this repo as a template. Name your repo assign03-50-[lastname].  \n",
        "\n",
        "* [10 POINTS] Create a new notebook name \"churn-prediction\", and properly document the notebook with descriptions of the tasks.\n",
        "\n",
        "* [10 POINTS] Using the scikit-demo-solutions notebook as a guide, read in the HR data.\n",
        "\n",
        "* [10 POINTS] Split the data for train and test\n",
        "\n",
        "* [20 POINTS] Build an appropriate training pipeline.\n",
        "\n",
        "* [10 POINTS] Carry out cross-validation"
      ],
      "metadata": {
        "id": "vwCj9gPYO6V6"
      }
    },
    {
      "cell_type": "markdown",
      "source": [
        "Import the necessary packages for the assignment."
      ],
      "metadata": {
        "id": "BKz1m-oZPZWJ"
      }
    },
    {
      "cell_type": "code",
      "source": [
        "#tables and visualizations\n",
        "import pandas as pd\n",
        "import numpy as np\n",
        "import seaborn as sns\n",
        "import matplotlib.pyplot as plt\n",
        "\n",
        "#machine learning\n",
        "from sklearn.model_selection import train_test_split, GridSearchCV\n",
        "from sklearn.linear_model import LogisticRegression\n",
        "from sklearn.ensemble import RandomForestClassifier\n",
        "from sklearn.pipeline import Pipeline \n",
        "from sklearn.compose import ColumnTransformer, make_column_selector\n",
        "from sklearn.impute import SimpleImputer\n",
        "from sklearn.preprocessing import OneHotEncoder, LabelBinarizer, StandardScaler\n",
        "from sklearn import config_context\n",
        "from sklearn.metrics import classification_report, confusion_matrix, ConfusionMatrixDisplay"
      ],
      "metadata": {
        "id": "34WCplOGPiG4"
      },
      "execution_count": 1,
      "outputs": []
    },
    {
      "cell_type": "markdown",
      "source": [
        "###[10 POINTS] Read in the HR data.\n",
        "Copy the link to the Excel file stored in the repo, and pass it as an argument to the pandas read_excel method to load in the data. \n",
        "Rather than having to [use GitHub API v3 to access the file on a private repo](https://stackoverflow.com/questions/62164400/how-to-access-private-github-repo-file-csv-in-python-using-pandas-or-requests), make the repo public. Otherwise you get a 404 when executing read_excel."
      ],
      "metadata": {
        "id": "gg444PdFPkvQ"
      }
    },
    {
      "cell_type": "code",
      "source": [
        "hr_data_download_url = 'https://github.com/austinjhunt/assign03-50-hunt/raw/main/IBM-HR-Data-Employee-Attrition.xlsx'\n",
        "hr_data = pd.read_excel(hr_data_download_url)"
      ],
      "metadata": {
        "id": "pj9bPRd3Prig"
      },
      "execution_count": 5,
      "outputs": []
    },
    {
      "cell_type": "markdown",
      "source": [
        "### Explore the data\n",
        "Display some of the data to become familiar with its current structure."
      ],
      "metadata": {
        "id": "q_b-DYZDRa0j"
      }
    },
    {
      "cell_type": "markdown",
      "source": [
        "Display the first 5 records in the dataset."
      ],
      "metadata": {
        "id": "c77zFi7ARt0y"
      }
    },
    {
      "cell_type": "code",
      "source": [
        "display(hr_data.head())"
      ],
      "metadata": {
        "colab": {
          "base_uri": "https://localhost:8080/",
          "height": 369
        },
        "id": "0sl6L1luRk2L",
        "outputId": "75cc229c-5ef0-45cc-b4f5-dbe65fc3f508"
      },
      "execution_count": 6,
      "outputs": [
        {
          "output_type": "display_data",
          "data": {
            "text/plain": [
              "   Age Attrition     BusinessTravel  DailyRate              Department  \\\n",
              "0   41       Yes      Travel_Rarely       1102                   Sales   \n",
              "1   49        No  Travel_Frequently        279  Research & Development   \n",
              "2   37       Yes      Travel_Rarely       1373  Research & Development   \n",
              "3   33        No  Travel_Frequently       1392  Research & Development   \n",
              "4   27        No      Travel_Rarely        591  Research & Development   \n",
              "\n",
              "   DistanceFromHome  Education EducationField  EmployeeCount  EmployeeNumber  \\\n",
              "0                 1          2  Life Sciences              1               1   \n",
              "1                 8          1  Life Sciences              1               2   \n",
              "2                 2          2          Other              1               4   \n",
              "3                 3          4  Life Sciences              1               5   \n",
              "4                 2          1        Medical              1               7   \n",
              "\n",
              "   ...  RelationshipSatisfaction StandardHours  StockOptionLevel  \\\n",
              "0  ...                         1            80                 0   \n",
              "1  ...                         4            80                 1   \n",
              "2  ...                         2            80                 0   \n",
              "3  ...                         3            80                 0   \n",
              "4  ...                         4            80                 1   \n",
              "\n",
              "   TotalWorkingYears  TrainingTimesLastYear WorkLifeBalance  YearsAtCompany  \\\n",
              "0                  8                      0               1               6   \n",
              "1                 10                      3               3              10   \n",
              "2                  7                      3               3               0   \n",
              "3                  8                      3               3               8   \n",
              "4                  6                      3               3               2   \n",
              "\n",
              "  YearsInCurrentRole  YearsSinceLastPromotion  YearsWithCurrManager  \n",
              "0                  4                        0                     5  \n",
              "1                  7                        1                     7  \n",
              "2                  0                        0                     0  \n",
              "3                  7                        3                     0  \n",
              "4                  2                        2                     2  \n",
              "\n",
              "[5 rows x 35 columns]"
            ],
            "text/html": [
              "\n",
              "  <div id=\"df-7642f2cb-788c-460c-a08c-2ee64e527bfa\">\n",
              "    <div class=\"colab-df-container\">\n",
              "      <div>\n",
              "<style scoped>\n",
              "    .dataframe tbody tr th:only-of-type {\n",
              "        vertical-align: middle;\n",
              "    }\n",
              "\n",
              "    .dataframe tbody tr th {\n",
              "        vertical-align: top;\n",
              "    }\n",
              "\n",
              "    .dataframe thead th {\n",
              "        text-align: right;\n",
              "    }\n",
              "</style>\n",
              "<table border=\"1\" class=\"dataframe\">\n",
              "  <thead>\n",
              "    <tr style=\"text-align: right;\">\n",
              "      <th></th>\n",
              "      <th>Age</th>\n",
              "      <th>Attrition</th>\n",
              "      <th>BusinessTravel</th>\n",
              "      <th>DailyRate</th>\n",
              "      <th>Department</th>\n",
              "      <th>DistanceFromHome</th>\n",
              "      <th>Education</th>\n",
              "      <th>EducationField</th>\n",
              "      <th>EmployeeCount</th>\n",
              "      <th>EmployeeNumber</th>\n",
              "      <th>...</th>\n",
              "      <th>RelationshipSatisfaction</th>\n",
              "      <th>StandardHours</th>\n",
              "      <th>StockOptionLevel</th>\n",
              "      <th>TotalWorkingYears</th>\n",
              "      <th>TrainingTimesLastYear</th>\n",
              "      <th>WorkLifeBalance</th>\n",
              "      <th>YearsAtCompany</th>\n",
              "      <th>YearsInCurrentRole</th>\n",
              "      <th>YearsSinceLastPromotion</th>\n",
              "      <th>YearsWithCurrManager</th>\n",
              "    </tr>\n",
              "  </thead>\n",
              "  <tbody>\n",
              "    <tr>\n",
              "      <th>0</th>\n",
              "      <td>41</td>\n",
              "      <td>Yes</td>\n",
              "      <td>Travel_Rarely</td>\n",
              "      <td>1102</td>\n",
              "      <td>Sales</td>\n",
              "      <td>1</td>\n",
              "      <td>2</td>\n",
              "      <td>Life Sciences</td>\n",
              "      <td>1</td>\n",
              "      <td>1</td>\n",
              "      <td>...</td>\n",
              "      <td>1</td>\n",
              "      <td>80</td>\n",
              "      <td>0</td>\n",
              "      <td>8</td>\n",
              "      <td>0</td>\n",
              "      <td>1</td>\n",
              "      <td>6</td>\n",
              "      <td>4</td>\n",
              "      <td>0</td>\n",
              "      <td>5</td>\n",
              "    </tr>\n",
              "    <tr>\n",
              "      <th>1</th>\n",
              "      <td>49</td>\n",
              "      <td>No</td>\n",
              "      <td>Travel_Frequently</td>\n",
              "      <td>279</td>\n",
              "      <td>Research &amp; Development</td>\n",
              "      <td>8</td>\n",
              "      <td>1</td>\n",
              "      <td>Life Sciences</td>\n",
              "      <td>1</td>\n",
              "      <td>2</td>\n",
              "      <td>...</td>\n",
              "      <td>4</td>\n",
              "      <td>80</td>\n",
              "      <td>1</td>\n",
              "      <td>10</td>\n",
              "      <td>3</td>\n",
              "      <td>3</td>\n",
              "      <td>10</td>\n",
              "      <td>7</td>\n",
              "      <td>1</td>\n",
              "      <td>7</td>\n",
              "    </tr>\n",
              "    <tr>\n",
              "      <th>2</th>\n",
              "      <td>37</td>\n",
              "      <td>Yes</td>\n",
              "      <td>Travel_Rarely</td>\n",
              "      <td>1373</td>\n",
              "      <td>Research &amp; Development</td>\n",
              "      <td>2</td>\n",
              "      <td>2</td>\n",
              "      <td>Other</td>\n",
              "      <td>1</td>\n",
              "      <td>4</td>\n",
              "      <td>...</td>\n",
              "      <td>2</td>\n",
              "      <td>80</td>\n",
              "      <td>0</td>\n",
              "      <td>7</td>\n",
              "      <td>3</td>\n",
              "      <td>3</td>\n",
              "      <td>0</td>\n",
              "      <td>0</td>\n",
              "      <td>0</td>\n",
              "      <td>0</td>\n",
              "    </tr>\n",
              "    <tr>\n",
              "      <th>3</th>\n",
              "      <td>33</td>\n",
              "      <td>No</td>\n",
              "      <td>Travel_Frequently</td>\n",
              "      <td>1392</td>\n",
              "      <td>Research &amp; Development</td>\n",
              "      <td>3</td>\n",
              "      <td>4</td>\n",
              "      <td>Life Sciences</td>\n",
              "      <td>1</td>\n",
              "      <td>5</td>\n",
              "      <td>...</td>\n",
              "      <td>3</td>\n",
              "      <td>80</td>\n",
              "      <td>0</td>\n",
              "      <td>8</td>\n",
              "      <td>3</td>\n",
              "      <td>3</td>\n",
              "      <td>8</td>\n",
              "      <td>7</td>\n",
              "      <td>3</td>\n",
              "      <td>0</td>\n",
              "    </tr>\n",
              "    <tr>\n",
              "      <th>4</th>\n",
              "      <td>27</td>\n",
              "      <td>No</td>\n",
              "      <td>Travel_Rarely</td>\n",
              "      <td>591</td>\n",
              "      <td>Research &amp; Development</td>\n",
              "      <td>2</td>\n",
              "      <td>1</td>\n",
              "      <td>Medical</td>\n",
              "      <td>1</td>\n",
              "      <td>7</td>\n",
              "      <td>...</td>\n",
              "      <td>4</td>\n",
              "      <td>80</td>\n",
              "      <td>1</td>\n",
              "      <td>6</td>\n",
              "      <td>3</td>\n",
              "      <td>3</td>\n",
              "      <td>2</td>\n",
              "      <td>2</td>\n",
              "      <td>2</td>\n",
              "      <td>2</td>\n",
              "    </tr>\n",
              "  </tbody>\n",
              "</table>\n",
              "<p>5 rows × 35 columns</p>\n",
              "</div>\n",
              "      <button class=\"colab-df-convert\" onclick=\"convertToInteractive('df-7642f2cb-788c-460c-a08c-2ee64e527bfa')\"\n",
              "              title=\"Convert this dataframe to an interactive table.\"\n",
              "              style=\"display:none;\">\n",
              "        \n",
              "  <svg xmlns=\"http://www.w3.org/2000/svg\" height=\"24px\"viewBox=\"0 0 24 24\"\n",
              "       width=\"24px\">\n",
              "    <path d=\"M0 0h24v24H0V0z\" fill=\"none\"/>\n",
              "    <path d=\"M18.56 5.44l.94 2.06.94-2.06 2.06-.94-2.06-.94-.94-2.06-.94 2.06-2.06.94zm-11 1L8.5 8.5l.94-2.06 2.06-.94-2.06-.94L8.5 2.5l-.94 2.06-2.06.94zm10 10l.94 2.06.94-2.06 2.06-.94-2.06-.94-.94-2.06-.94 2.06-2.06.94z\"/><path d=\"M17.41 7.96l-1.37-1.37c-.4-.4-.92-.59-1.43-.59-.52 0-1.04.2-1.43.59L10.3 9.45l-7.72 7.72c-.78.78-.78 2.05 0 2.83L4 21.41c.39.39.9.59 1.41.59.51 0 1.02-.2 1.41-.59l7.78-7.78 2.81-2.81c.8-.78.8-2.07 0-2.86zM5.41 20L4 18.59l7.72-7.72 1.47 1.35L5.41 20z\"/>\n",
              "  </svg>\n",
              "      </button>\n",
              "      \n",
              "  <style>\n",
              "    .colab-df-container {\n",
              "      display:flex;\n",
              "      flex-wrap:wrap;\n",
              "      gap: 12px;\n",
              "    }\n",
              "\n",
              "    .colab-df-convert {\n",
              "      background-color: #E8F0FE;\n",
              "      border: none;\n",
              "      border-radius: 50%;\n",
              "      cursor: pointer;\n",
              "      display: none;\n",
              "      fill: #1967D2;\n",
              "      height: 32px;\n",
              "      padding: 0 0 0 0;\n",
              "      width: 32px;\n",
              "    }\n",
              "\n",
              "    .colab-df-convert:hover {\n",
              "      background-color: #E2EBFA;\n",
              "      box-shadow: 0px 1px 2px rgba(60, 64, 67, 0.3), 0px 1px 3px 1px rgba(60, 64, 67, 0.15);\n",
              "      fill: #174EA6;\n",
              "    }\n",
              "\n",
              "    [theme=dark] .colab-df-convert {\n",
              "      background-color: #3B4455;\n",
              "      fill: #D2E3FC;\n",
              "    }\n",
              "\n",
              "    [theme=dark] .colab-df-convert:hover {\n",
              "      background-color: #434B5C;\n",
              "      box-shadow: 0px 1px 3px 1px rgba(0, 0, 0, 0.15);\n",
              "      filter: drop-shadow(0px 1px 2px rgba(0, 0, 0, 0.3));\n",
              "      fill: #FFFFFF;\n",
              "    }\n",
              "  </style>\n",
              "\n",
              "      <script>\n",
              "        const buttonEl =\n",
              "          document.querySelector('#df-7642f2cb-788c-460c-a08c-2ee64e527bfa button.colab-df-convert');\n",
              "        buttonEl.style.display =\n",
              "          google.colab.kernel.accessAllowed ? 'block' : 'none';\n",
              "\n",
              "        async function convertToInteractive(key) {\n",
              "          const element = document.querySelector('#df-7642f2cb-788c-460c-a08c-2ee64e527bfa');\n",
              "          const dataTable =\n",
              "            await google.colab.kernel.invokeFunction('convertToInteractive',\n",
              "                                                     [key], {});\n",
              "          if (!dataTable) return;\n",
              "\n",
              "          const docLinkHtml = 'Like what you see? Visit the ' +\n",
              "            '<a target=\"_blank\" href=https://colab.research.google.com/notebooks/data_table.ipynb>data table notebook</a>'\n",
              "            + ' to learn more about interactive tables.';\n",
              "          element.innerHTML = '';\n",
              "          dataTable['output_type'] = 'display_data';\n",
              "          await google.colab.output.renderOutput(dataTable, element);\n",
              "          const docLink = document.createElement('div');\n",
              "          docLink.innerHTML = docLinkHtml;\n",
              "          element.appendChild(docLink);\n",
              "        }\n",
              "      </script>\n",
              "    </div>\n",
              "  </div>\n",
              "  "
            ]
          },
          "metadata": {}
        }
      ]
    },
    {
      "cell_type": "markdown",
      "source": [
        "Print some additional information about the dataset, "
      ],
      "metadata": {
        "id": "WyHAWpXIR4s0"
      }
    },
    {
      "cell_type": "code",
      "source": [
        "hr_data.info()"
      ],
      "metadata": {
        "colab": {
          "base_uri": "https://localhost:8080/"
        },
        "id": "YCRP1SE3Rrji",
        "outputId": "60a043bf-9df1-409b-fbab-296314900b8d"
      },
      "execution_count": 7,
      "outputs": [
        {
          "output_type": "stream",
          "name": "stdout",
          "text": [
            "<class 'pandas.core.frame.DataFrame'>\n",
            "RangeIndex: 1470 entries, 0 to 1469\n",
            "Data columns (total 35 columns):\n",
            " #   Column                    Non-Null Count  Dtype \n",
            "---  ------                    --------------  ----- \n",
            " 0   Age                       1470 non-null   int64 \n",
            " 1   Attrition                 1470 non-null   object\n",
            " 2   BusinessTravel            1470 non-null   object\n",
            " 3   DailyRate                 1470 non-null   int64 \n",
            " 4   Department                1470 non-null   object\n",
            " 5   DistanceFromHome          1470 non-null   int64 \n",
            " 6   Education                 1470 non-null   int64 \n",
            " 7   EducationField            1470 non-null   object\n",
            " 8   EmployeeCount             1470 non-null   int64 \n",
            " 9   EmployeeNumber            1470 non-null   int64 \n",
            " 10  EnvironmentSatisfaction   1470 non-null   int64 \n",
            " 11  Gender                    1470 non-null   object\n",
            " 12  HourlyRate                1470 non-null   int64 \n",
            " 13  JobInvolvement            1470 non-null   int64 \n",
            " 14  JobLevel                  1470 non-null   int64 \n",
            " 15  JobRole                   1470 non-null   object\n",
            " 16  JobSatisfaction           1470 non-null   int64 \n",
            " 17  MaritalStatus             1470 non-null   object\n",
            " 18  MonthlyIncome             1470 non-null   int64 \n",
            " 19  MonthlyRate               1470 non-null   int64 \n",
            " 20  NumCompaniesWorked        1470 non-null   int64 \n",
            " 21  Over18                    1470 non-null   object\n",
            " 22  OverTime                  1470 non-null   object\n",
            " 23  PercentSalaryHike         1470 non-null   int64 \n",
            " 24  PerformanceRating         1470 non-null   int64 \n",
            " 25  RelationshipSatisfaction  1470 non-null   int64 \n",
            " 26  StandardHours             1470 non-null   int64 \n",
            " 27  StockOptionLevel          1470 non-null   int64 \n",
            " 28  TotalWorkingYears         1470 non-null   int64 \n",
            " 29  TrainingTimesLastYear     1470 non-null   int64 \n",
            " 30  WorkLifeBalance           1470 non-null   int64 \n",
            " 31  YearsAtCompany            1470 non-null   int64 \n",
            " 32  YearsInCurrentRole        1470 non-null   int64 \n",
            " 33  YearsSinceLastPromotion   1470 non-null   int64 \n",
            " 34  YearsWithCurrManager      1470 non-null   int64 \n",
            "dtypes: int64(26), object(9)\n",
            "memory usage: 402.1+ KB\n"
          ]
        }
      ]
    },
    {
      "cell_type": "markdown",
      "source": [
        "See how many null values exist for each of the columns / features in the dataset."
      ],
      "metadata": {
        "id": "YCijawLaSFKo"
      }
    },
    {
      "cell_type": "code",
      "source": [
        "hr_data.isna().sum()"
      ],
      "metadata": {
        "colab": {
          "base_uri": "https://localhost:8080/"
        },
        "id": "Ygyu0I17SDsR",
        "outputId": "235c1347-14a9-47bf-e5c5-ee7824c129b7"
      },
      "execution_count": 8,
      "outputs": [
        {
          "output_type": "execute_result",
          "data": {
            "text/plain": [
              "Age                         0\n",
              "Attrition                   0\n",
              "BusinessTravel              0\n",
              "DailyRate                   0\n",
              "Department                  0\n",
              "DistanceFromHome            0\n",
              "Education                   0\n",
              "EducationField              0\n",
              "EmployeeCount               0\n",
              "EmployeeNumber              0\n",
              "EnvironmentSatisfaction     0\n",
              "Gender                      0\n",
              "HourlyRate                  0\n",
              "JobInvolvement              0\n",
              "JobLevel                    0\n",
              "JobRole                     0\n",
              "JobSatisfaction             0\n",
              "MaritalStatus               0\n",
              "MonthlyIncome               0\n",
              "MonthlyRate                 0\n",
              "NumCompaniesWorked          0\n",
              "Over18                      0\n",
              "OverTime                    0\n",
              "PercentSalaryHike           0\n",
              "PerformanceRating           0\n",
              "RelationshipSatisfaction    0\n",
              "StandardHours               0\n",
              "StockOptionLevel            0\n",
              "TotalWorkingYears           0\n",
              "TrainingTimesLastYear       0\n",
              "WorkLifeBalance             0\n",
              "YearsAtCompany              0\n",
              "YearsInCurrentRole          0\n",
              "YearsSinceLastPromotion     0\n",
              "YearsWithCurrManager        0\n",
              "dtype: int64"
            ]
          },
          "metadata": {},
          "execution_count": 8
        }
      ]
    },
    {
      "cell_type": "markdown",
      "source": [
        "Awesome! No null values! "
      ],
      "metadata": {
        "id": "CVWxGklbSUAR"
      }
    },
    {
      "cell_type": "markdown",
      "source": [
        "### [10 POINTS] Split the data for train and test\n",
        "We need to separate our dataset into two subsets, a training dataset to allow our model to learn and discover churn patterns, and an unseen test dataset to verify that the model can accurately predict churn.  "
      ],
      "metadata": {
        "id": "NiAae18GRKZt"
      }
    },
    {
      "cell_type": "code",
      "source": [
        "class_column = 'Attrition'\n",
        "hr_data[class_column]\n",
        "# Controls the shuffling applied to the data before applying the split.\n",
        "# Pass an int for reproducible output across multiple function calls.\n",
        "random_seed = 1234\n",
        "stratify = hr_data[class_column] # If not None, data is split in a stratified fashion, using this as the class labels."
      ],
      "metadata": {
        "id": "xw6ZuRapVyhg"
      },
      "execution_count": 13,
      "outputs": []
    },
    {
      "cell_type": "code",
      "source": [
        "x_train, x_test, y_train, y_test = train_test_split(hr_data.drop(columns=class_column), hr_data[class_column], test_size=0.25, random_state=random_seed, stratify=stratify)"
      ],
      "metadata": {
        "id": "ZrfGXJnqVKep"
      },
      "execution_count": 14,
      "outputs": []
    },
    {
      "cell_type": "markdown",
      "source": [
        "Verifying that everything looks okay. \n",
        "X training should be 1102 records (75% of data), x test should be 368 records (25% of data). Neither x test nor x x training should include the Attrition column. "
      ],
      "metadata": {
        "id": "kDOp4oJcXWRz"
      }
    },
    {
      "cell_type": "code",
      "source": [
        "print(f'X training data dimensions {x_train.shape}') # should be 1102 records (75% of data)\n",
        "print(f'X training data:')\n",
        "display(x_train.head())\n",
        "\n",
        "print(f'X testing data dimensions {x_test.shape}') # should be 368 records (25% of data)\n",
        "print(f'X testing  data:')\n",
        "display(x_test.head())"
      ],
      "metadata": {
        "colab": {
          "base_uri": "https://localhost:8080/",
          "height": 761
        },
        "id": "HySvUPAOXYdJ",
        "outputId": "941358a0-d032-46c8-aaef-0e6f0b0f9ab0"
      },
      "execution_count": 17,
      "outputs": [
        {
          "output_type": "stream",
          "name": "stdout",
          "text": [
            "X training data dimensions (1102, 34)\n",
            "X training data:\n"
          ]
        },
        {
          "output_type": "display_data",
          "data": {
            "text/plain": [
              "      Age BusinessTravel  DailyRate              Department  DistanceFromHome  \\\n",
              "17     22     Non-Travel       1123  Research & Development                16   \n",
              "976    56  Travel_Rarely       1369  Research & Development                23   \n",
              "1357   42  Travel_Rarely       1396  Research & Development                 6   \n",
              "143    30  Travel_Rarely        438  Research & Development                18   \n",
              "1435   44  Travel_Rarely       1037  Research & Development                 1   \n",
              "\n",
              "      Education EducationField  EmployeeCount  EmployeeNumber  \\\n",
              "17            2        Medical              1              22   \n",
              "976           3  Life Sciences              1            1373   \n",
              "1357          3        Medical              1            1911   \n",
              "143           3  Life Sciences              1             194   \n",
              "1435          3        Medical              1            2020   \n",
              "\n",
              "      EnvironmentSatisfaction  ... RelationshipSatisfaction  StandardHours  \\\n",
              "17                          4  ...                        2             80   \n",
              "976                         4  ...                        1             80   \n",
              "1357                        3  ...                        2             80   \n",
              "143                         1  ...                        3             80   \n",
              "1435                        2  ...                        3             80   \n",
              "\n",
              "      StockOptionLevel  TotalWorkingYears TrainingTimesLastYear  \\\n",
              "17                   2                  1                     2   \n",
              "976                  1                 33                     0   \n",
              "1357                 1                 18                     3   \n",
              "143                  0                  5                     4   \n",
              "1435                 0                  6                     2   \n",
              "\n",
              "      WorkLifeBalance YearsAtCompany  YearsInCurrentRole  \\\n",
              "17                  2              1                   0   \n",
              "976                 3             19                  16   \n",
              "1357                4             13                   7   \n",
              "143                 2              5                   4   \n",
              "1435                3              4                   3   \n",
              "\n",
              "      YearsSinceLastPromotion  YearsWithCurrManager  \n",
              "17                          0                     0  \n",
              "976                        15                     9  \n",
              "1357                        5                     7  \n",
              "143                         0                     4  \n",
              "1435                        1                     2  \n",
              "\n",
              "[5 rows x 34 columns]"
            ],
            "text/html": [
              "\n",
              "  <div id=\"df-224d4cda-3de1-429d-b2bb-c6ff1ea74e79\">\n",
              "    <div class=\"colab-df-container\">\n",
              "      <div>\n",
              "<style scoped>\n",
              "    .dataframe tbody tr th:only-of-type {\n",
              "        vertical-align: middle;\n",
              "    }\n",
              "\n",
              "    .dataframe tbody tr th {\n",
              "        vertical-align: top;\n",
              "    }\n",
              "\n",
              "    .dataframe thead th {\n",
              "        text-align: right;\n",
              "    }\n",
              "</style>\n",
              "<table border=\"1\" class=\"dataframe\">\n",
              "  <thead>\n",
              "    <tr style=\"text-align: right;\">\n",
              "      <th></th>\n",
              "      <th>Age</th>\n",
              "      <th>BusinessTravel</th>\n",
              "      <th>DailyRate</th>\n",
              "      <th>Department</th>\n",
              "      <th>DistanceFromHome</th>\n",
              "      <th>Education</th>\n",
              "      <th>EducationField</th>\n",
              "      <th>EmployeeCount</th>\n",
              "      <th>EmployeeNumber</th>\n",
              "      <th>EnvironmentSatisfaction</th>\n",
              "      <th>...</th>\n",
              "      <th>RelationshipSatisfaction</th>\n",
              "      <th>StandardHours</th>\n",
              "      <th>StockOptionLevel</th>\n",
              "      <th>TotalWorkingYears</th>\n",
              "      <th>TrainingTimesLastYear</th>\n",
              "      <th>WorkLifeBalance</th>\n",
              "      <th>YearsAtCompany</th>\n",
              "      <th>YearsInCurrentRole</th>\n",
              "      <th>YearsSinceLastPromotion</th>\n",
              "      <th>YearsWithCurrManager</th>\n",
              "    </tr>\n",
              "  </thead>\n",
              "  <tbody>\n",
              "    <tr>\n",
              "      <th>17</th>\n",
              "      <td>22</td>\n",
              "      <td>Non-Travel</td>\n",
              "      <td>1123</td>\n",
              "      <td>Research &amp; Development</td>\n",
              "      <td>16</td>\n",
              "      <td>2</td>\n",
              "      <td>Medical</td>\n",
              "      <td>1</td>\n",
              "      <td>22</td>\n",
              "      <td>4</td>\n",
              "      <td>...</td>\n",
              "      <td>2</td>\n",
              "      <td>80</td>\n",
              "      <td>2</td>\n",
              "      <td>1</td>\n",
              "      <td>2</td>\n",
              "      <td>2</td>\n",
              "      <td>1</td>\n",
              "      <td>0</td>\n",
              "      <td>0</td>\n",
              "      <td>0</td>\n",
              "    </tr>\n",
              "    <tr>\n",
              "      <th>976</th>\n",
              "      <td>56</td>\n",
              "      <td>Travel_Rarely</td>\n",
              "      <td>1369</td>\n",
              "      <td>Research &amp; Development</td>\n",
              "      <td>23</td>\n",
              "      <td>3</td>\n",
              "      <td>Life Sciences</td>\n",
              "      <td>1</td>\n",
              "      <td>1373</td>\n",
              "      <td>4</td>\n",
              "      <td>...</td>\n",
              "      <td>1</td>\n",
              "      <td>80</td>\n",
              "      <td>1</td>\n",
              "      <td>33</td>\n",
              "      <td>0</td>\n",
              "      <td>3</td>\n",
              "      <td>19</td>\n",
              "      <td>16</td>\n",
              "      <td>15</td>\n",
              "      <td>9</td>\n",
              "    </tr>\n",
              "    <tr>\n",
              "      <th>1357</th>\n",
              "      <td>42</td>\n",
              "      <td>Travel_Rarely</td>\n",
              "      <td>1396</td>\n",
              "      <td>Research &amp; Development</td>\n",
              "      <td>6</td>\n",
              "      <td>3</td>\n",
              "      <td>Medical</td>\n",
              "      <td>1</td>\n",
              "      <td>1911</td>\n",
              "      <td>3</td>\n",
              "      <td>...</td>\n",
              "      <td>2</td>\n",
              "      <td>80</td>\n",
              "      <td>1</td>\n",
              "      <td>18</td>\n",
              "      <td>3</td>\n",
              "      <td>4</td>\n",
              "      <td>13</td>\n",
              "      <td>7</td>\n",
              "      <td>5</td>\n",
              "      <td>7</td>\n",
              "    </tr>\n",
              "    <tr>\n",
              "      <th>143</th>\n",
              "      <td>30</td>\n",
              "      <td>Travel_Rarely</td>\n",
              "      <td>438</td>\n",
              "      <td>Research &amp; Development</td>\n",
              "      <td>18</td>\n",
              "      <td>3</td>\n",
              "      <td>Life Sciences</td>\n",
              "      <td>1</td>\n",
              "      <td>194</td>\n",
              "      <td>1</td>\n",
              "      <td>...</td>\n",
              "      <td>3</td>\n",
              "      <td>80</td>\n",
              "      <td>0</td>\n",
              "      <td>5</td>\n",
              "      <td>4</td>\n",
              "      <td>2</td>\n",
              "      <td>5</td>\n",
              "      <td>4</td>\n",
              "      <td>0</td>\n",
              "      <td>4</td>\n",
              "    </tr>\n",
              "    <tr>\n",
              "      <th>1435</th>\n",
              "      <td>44</td>\n",
              "      <td>Travel_Rarely</td>\n",
              "      <td>1037</td>\n",
              "      <td>Research &amp; Development</td>\n",
              "      <td>1</td>\n",
              "      <td>3</td>\n",
              "      <td>Medical</td>\n",
              "      <td>1</td>\n",
              "      <td>2020</td>\n",
              "      <td>2</td>\n",
              "      <td>...</td>\n",
              "      <td>3</td>\n",
              "      <td>80</td>\n",
              "      <td>0</td>\n",
              "      <td>6</td>\n",
              "      <td>2</td>\n",
              "      <td>3</td>\n",
              "      <td>4</td>\n",
              "      <td>3</td>\n",
              "      <td>1</td>\n",
              "      <td>2</td>\n",
              "    </tr>\n",
              "  </tbody>\n",
              "</table>\n",
              "<p>5 rows × 34 columns</p>\n",
              "</div>\n",
              "      <button class=\"colab-df-convert\" onclick=\"convertToInteractive('df-224d4cda-3de1-429d-b2bb-c6ff1ea74e79')\"\n",
              "              title=\"Convert this dataframe to an interactive table.\"\n",
              "              style=\"display:none;\">\n",
              "        \n",
              "  <svg xmlns=\"http://www.w3.org/2000/svg\" height=\"24px\"viewBox=\"0 0 24 24\"\n",
              "       width=\"24px\">\n",
              "    <path d=\"M0 0h24v24H0V0z\" fill=\"none\"/>\n",
              "    <path d=\"M18.56 5.44l.94 2.06.94-2.06 2.06-.94-2.06-.94-.94-2.06-.94 2.06-2.06.94zm-11 1L8.5 8.5l.94-2.06 2.06-.94-2.06-.94L8.5 2.5l-.94 2.06-2.06.94zm10 10l.94 2.06.94-2.06 2.06-.94-2.06-.94-.94-2.06-.94 2.06-2.06.94z\"/><path d=\"M17.41 7.96l-1.37-1.37c-.4-.4-.92-.59-1.43-.59-.52 0-1.04.2-1.43.59L10.3 9.45l-7.72 7.72c-.78.78-.78 2.05 0 2.83L4 21.41c.39.39.9.59 1.41.59.51 0 1.02-.2 1.41-.59l7.78-7.78 2.81-2.81c.8-.78.8-2.07 0-2.86zM5.41 20L4 18.59l7.72-7.72 1.47 1.35L5.41 20z\"/>\n",
              "  </svg>\n",
              "      </button>\n",
              "      \n",
              "  <style>\n",
              "    .colab-df-container {\n",
              "      display:flex;\n",
              "      flex-wrap:wrap;\n",
              "      gap: 12px;\n",
              "    }\n",
              "\n",
              "    .colab-df-convert {\n",
              "      background-color: #E8F0FE;\n",
              "      border: none;\n",
              "      border-radius: 50%;\n",
              "      cursor: pointer;\n",
              "      display: none;\n",
              "      fill: #1967D2;\n",
              "      height: 32px;\n",
              "      padding: 0 0 0 0;\n",
              "      width: 32px;\n",
              "    }\n",
              "\n",
              "    .colab-df-convert:hover {\n",
              "      background-color: #E2EBFA;\n",
              "      box-shadow: 0px 1px 2px rgba(60, 64, 67, 0.3), 0px 1px 3px 1px rgba(60, 64, 67, 0.15);\n",
              "      fill: #174EA6;\n",
              "    }\n",
              "\n",
              "    [theme=dark] .colab-df-convert {\n",
              "      background-color: #3B4455;\n",
              "      fill: #D2E3FC;\n",
              "    }\n",
              "\n",
              "    [theme=dark] .colab-df-convert:hover {\n",
              "      background-color: #434B5C;\n",
              "      box-shadow: 0px 1px 3px 1px rgba(0, 0, 0, 0.15);\n",
              "      filter: drop-shadow(0px 1px 2px rgba(0, 0, 0, 0.3));\n",
              "      fill: #FFFFFF;\n",
              "    }\n",
              "  </style>\n",
              "\n",
              "      <script>\n",
              "        const buttonEl =\n",
              "          document.querySelector('#df-224d4cda-3de1-429d-b2bb-c6ff1ea74e79 button.colab-df-convert');\n",
              "        buttonEl.style.display =\n",
              "          google.colab.kernel.accessAllowed ? 'block' : 'none';\n",
              "\n",
              "        async function convertToInteractive(key) {\n",
              "          const element = document.querySelector('#df-224d4cda-3de1-429d-b2bb-c6ff1ea74e79');\n",
              "          const dataTable =\n",
              "            await google.colab.kernel.invokeFunction('convertToInteractive',\n",
              "                                                     [key], {});\n",
              "          if (!dataTable) return;\n",
              "\n",
              "          const docLinkHtml = 'Like what you see? Visit the ' +\n",
              "            '<a target=\"_blank\" href=https://colab.research.google.com/notebooks/data_table.ipynb>data table notebook</a>'\n",
              "            + ' to learn more about interactive tables.';\n",
              "          element.innerHTML = '';\n",
              "          dataTable['output_type'] = 'display_data';\n",
              "          await google.colab.output.renderOutput(dataTable, element);\n",
              "          const docLink = document.createElement('div');\n",
              "          docLink.innerHTML = docLinkHtml;\n",
              "          element.appendChild(docLink);\n",
              "        }\n",
              "      </script>\n",
              "    </div>\n",
              "  </div>\n",
              "  "
            ]
          },
          "metadata": {}
        },
        {
          "output_type": "stream",
          "name": "stdout",
          "text": [
            "X testing data dimensions (368, 34)\n",
            "X testing  data:\n"
          ]
        },
        {
          "output_type": "display_data",
          "data": {
            "text/plain": [
              "      Age     BusinessTravel  DailyRate              Department  \\\n",
              "1050   42  Travel_Frequently        748  Research & Development   \n",
              "1345   35      Travel_Rarely        219  Research & Development   \n",
              "429    46      Travel_Rarely       1009  Research & Development   \n",
              "924    35      Travel_Rarely        735  Research & Development   \n",
              "852    29      Travel_Rarely       1401  Research & Development   \n",
              "\n",
              "      DistanceFromHome  Education EducationField  EmployeeCount  \\\n",
              "1050                 9          2        Medical              1   \n",
              "1345                16          2          Other              1   \n",
              "429                  2          3  Life Sciences              1   \n",
              "924                  6          1  Life Sciences              1   \n",
              "852                  6          1        Medical              1   \n",
              "\n",
              "      EmployeeNumber  EnvironmentSatisfaction  ... RelationshipSatisfaction  \\\n",
              "1050            1480                        1  ...                        3   \n",
              "1345            1886                        4  ...                        4   \n",
              "429              575                        1  ...                        3   \n",
              "924             1291                        3  ...                        4   \n",
              "852             1192                        2  ...                        1   \n",
              "\n",
              "      StandardHours  StockOptionLevel  TotalWorkingYears  \\\n",
              "1050             80                 0                 12   \n",
              "1345             80                 0                  4   \n",
              "429              80                 0                 26   \n",
              "924              80                 0                  4   \n",
              "852              80                 1                 10   \n",
              "\n",
              "     TrainingTimesLastYear  WorkLifeBalance YearsAtCompany  \\\n",
              "1050                     3                3             12   \n",
              "1345                     2                3              3   \n",
              "429                      2                1              3   \n",
              "924                      3                3              3   \n",
              "852                      5                3             10   \n",
              "\n",
              "      YearsInCurrentRole  YearsSinceLastPromotion  YearsWithCurrManager  \n",
              "1050                   9                        5                     8  \n",
              "1345                   2                        0                     2  \n",
              "429                    2                        0                     1  \n",
              "924                    2                        2                     2  \n",
              "852                    8                        0                     8  \n",
              "\n",
              "[5 rows x 34 columns]"
            ],
            "text/html": [
              "\n",
              "  <div id=\"df-1e84ab1d-8abf-40a7-a676-6f1fa7d71518\">\n",
              "    <div class=\"colab-df-container\">\n",
              "      <div>\n",
              "<style scoped>\n",
              "    .dataframe tbody tr th:only-of-type {\n",
              "        vertical-align: middle;\n",
              "    }\n",
              "\n",
              "    .dataframe tbody tr th {\n",
              "        vertical-align: top;\n",
              "    }\n",
              "\n",
              "    .dataframe thead th {\n",
              "        text-align: right;\n",
              "    }\n",
              "</style>\n",
              "<table border=\"1\" class=\"dataframe\">\n",
              "  <thead>\n",
              "    <tr style=\"text-align: right;\">\n",
              "      <th></th>\n",
              "      <th>Age</th>\n",
              "      <th>BusinessTravel</th>\n",
              "      <th>DailyRate</th>\n",
              "      <th>Department</th>\n",
              "      <th>DistanceFromHome</th>\n",
              "      <th>Education</th>\n",
              "      <th>EducationField</th>\n",
              "      <th>EmployeeCount</th>\n",
              "      <th>EmployeeNumber</th>\n",
              "      <th>EnvironmentSatisfaction</th>\n",
              "      <th>...</th>\n",
              "      <th>RelationshipSatisfaction</th>\n",
              "      <th>StandardHours</th>\n",
              "      <th>StockOptionLevel</th>\n",
              "      <th>TotalWorkingYears</th>\n",
              "      <th>TrainingTimesLastYear</th>\n",
              "      <th>WorkLifeBalance</th>\n",
              "      <th>YearsAtCompany</th>\n",
              "      <th>YearsInCurrentRole</th>\n",
              "      <th>YearsSinceLastPromotion</th>\n",
              "      <th>YearsWithCurrManager</th>\n",
              "    </tr>\n",
              "  </thead>\n",
              "  <tbody>\n",
              "    <tr>\n",
              "      <th>1050</th>\n",
              "      <td>42</td>\n",
              "      <td>Travel_Frequently</td>\n",
              "      <td>748</td>\n",
              "      <td>Research &amp; Development</td>\n",
              "      <td>9</td>\n",
              "      <td>2</td>\n",
              "      <td>Medical</td>\n",
              "      <td>1</td>\n",
              "      <td>1480</td>\n",
              "      <td>1</td>\n",
              "      <td>...</td>\n",
              "      <td>3</td>\n",
              "      <td>80</td>\n",
              "      <td>0</td>\n",
              "      <td>12</td>\n",
              "      <td>3</td>\n",
              "      <td>3</td>\n",
              "      <td>12</td>\n",
              "      <td>9</td>\n",
              "      <td>5</td>\n",
              "      <td>8</td>\n",
              "    </tr>\n",
              "    <tr>\n",
              "      <th>1345</th>\n",
              "      <td>35</td>\n",
              "      <td>Travel_Rarely</td>\n",
              "      <td>219</td>\n",
              "      <td>Research &amp; Development</td>\n",
              "      <td>16</td>\n",
              "      <td>2</td>\n",
              "      <td>Other</td>\n",
              "      <td>1</td>\n",
              "      <td>1886</td>\n",
              "      <td>4</td>\n",
              "      <td>...</td>\n",
              "      <td>4</td>\n",
              "      <td>80</td>\n",
              "      <td>0</td>\n",
              "      <td>4</td>\n",
              "      <td>2</td>\n",
              "      <td>3</td>\n",
              "      <td>3</td>\n",
              "      <td>2</td>\n",
              "      <td>0</td>\n",
              "      <td>2</td>\n",
              "    </tr>\n",
              "    <tr>\n",
              "      <th>429</th>\n",
              "      <td>46</td>\n",
              "      <td>Travel_Rarely</td>\n",
              "      <td>1009</td>\n",
              "      <td>Research &amp; Development</td>\n",
              "      <td>2</td>\n",
              "      <td>3</td>\n",
              "      <td>Life Sciences</td>\n",
              "      <td>1</td>\n",
              "      <td>575</td>\n",
              "      <td>1</td>\n",
              "      <td>...</td>\n",
              "      <td>3</td>\n",
              "      <td>80</td>\n",
              "      <td>0</td>\n",
              "      <td>26</td>\n",
              "      <td>2</td>\n",
              "      <td>1</td>\n",
              "      <td>3</td>\n",
              "      <td>2</td>\n",
              "      <td>0</td>\n",
              "      <td>1</td>\n",
              "    </tr>\n",
              "    <tr>\n",
              "      <th>924</th>\n",
              "      <td>35</td>\n",
              "      <td>Travel_Rarely</td>\n",
              "      <td>735</td>\n",
              "      <td>Research &amp; Development</td>\n",
              "      <td>6</td>\n",
              "      <td>1</td>\n",
              "      <td>Life Sciences</td>\n",
              "      <td>1</td>\n",
              "      <td>1291</td>\n",
              "      <td>3</td>\n",
              "      <td>...</td>\n",
              "      <td>4</td>\n",
              "      <td>80</td>\n",
              "      <td>0</td>\n",
              "      <td>4</td>\n",
              "      <td>3</td>\n",
              "      <td>3</td>\n",
              "      <td>3</td>\n",
              "      <td>2</td>\n",
              "      <td>2</td>\n",
              "      <td>2</td>\n",
              "    </tr>\n",
              "    <tr>\n",
              "      <th>852</th>\n",
              "      <td>29</td>\n",
              "      <td>Travel_Rarely</td>\n",
              "      <td>1401</td>\n",
              "      <td>Research &amp; Development</td>\n",
              "      <td>6</td>\n",
              "      <td>1</td>\n",
              "      <td>Medical</td>\n",
              "      <td>1</td>\n",
              "      <td>1192</td>\n",
              "      <td>2</td>\n",
              "      <td>...</td>\n",
              "      <td>1</td>\n",
              "      <td>80</td>\n",
              "      <td>1</td>\n",
              "      <td>10</td>\n",
              "      <td>5</td>\n",
              "      <td>3</td>\n",
              "      <td>10</td>\n",
              "      <td>8</td>\n",
              "      <td>0</td>\n",
              "      <td>8</td>\n",
              "    </tr>\n",
              "  </tbody>\n",
              "</table>\n",
              "<p>5 rows × 34 columns</p>\n",
              "</div>\n",
              "      <button class=\"colab-df-convert\" onclick=\"convertToInteractive('df-1e84ab1d-8abf-40a7-a676-6f1fa7d71518')\"\n",
              "              title=\"Convert this dataframe to an interactive table.\"\n",
              "              style=\"display:none;\">\n",
              "        \n",
              "  <svg xmlns=\"http://www.w3.org/2000/svg\" height=\"24px\"viewBox=\"0 0 24 24\"\n",
              "       width=\"24px\">\n",
              "    <path d=\"M0 0h24v24H0V0z\" fill=\"none\"/>\n",
              "    <path d=\"M18.56 5.44l.94 2.06.94-2.06 2.06-.94-2.06-.94-.94-2.06-.94 2.06-2.06.94zm-11 1L8.5 8.5l.94-2.06 2.06-.94-2.06-.94L8.5 2.5l-.94 2.06-2.06.94zm10 10l.94 2.06.94-2.06 2.06-.94-2.06-.94-.94-2.06-.94 2.06-2.06.94z\"/><path d=\"M17.41 7.96l-1.37-1.37c-.4-.4-.92-.59-1.43-.59-.52 0-1.04.2-1.43.59L10.3 9.45l-7.72 7.72c-.78.78-.78 2.05 0 2.83L4 21.41c.39.39.9.59 1.41.59.51 0 1.02-.2 1.41-.59l7.78-7.78 2.81-2.81c.8-.78.8-2.07 0-2.86zM5.41 20L4 18.59l7.72-7.72 1.47 1.35L5.41 20z\"/>\n",
              "  </svg>\n",
              "      </button>\n",
              "      \n",
              "  <style>\n",
              "    .colab-df-container {\n",
              "      display:flex;\n",
              "      flex-wrap:wrap;\n",
              "      gap: 12px;\n",
              "    }\n",
              "\n",
              "    .colab-df-convert {\n",
              "      background-color: #E8F0FE;\n",
              "      border: none;\n",
              "      border-radius: 50%;\n",
              "      cursor: pointer;\n",
              "      display: none;\n",
              "      fill: #1967D2;\n",
              "      height: 32px;\n",
              "      padding: 0 0 0 0;\n",
              "      width: 32px;\n",
              "    }\n",
              "\n",
              "    .colab-df-convert:hover {\n",
              "      background-color: #E2EBFA;\n",
              "      box-shadow: 0px 1px 2px rgba(60, 64, 67, 0.3), 0px 1px 3px 1px rgba(60, 64, 67, 0.15);\n",
              "      fill: #174EA6;\n",
              "    }\n",
              "\n",
              "    [theme=dark] .colab-df-convert {\n",
              "      background-color: #3B4455;\n",
              "      fill: #D2E3FC;\n",
              "    }\n",
              "\n",
              "    [theme=dark] .colab-df-convert:hover {\n",
              "      background-color: #434B5C;\n",
              "      box-shadow: 0px 1px 3px 1px rgba(0, 0, 0, 0.15);\n",
              "      filter: drop-shadow(0px 1px 2px rgba(0, 0, 0, 0.3));\n",
              "      fill: #FFFFFF;\n",
              "    }\n",
              "  </style>\n",
              "\n",
              "      <script>\n",
              "        const buttonEl =\n",
              "          document.querySelector('#df-1e84ab1d-8abf-40a7-a676-6f1fa7d71518 button.colab-df-convert');\n",
              "        buttonEl.style.display =\n",
              "          google.colab.kernel.accessAllowed ? 'block' : 'none';\n",
              "\n",
              "        async function convertToInteractive(key) {\n",
              "          const element = document.querySelector('#df-1e84ab1d-8abf-40a7-a676-6f1fa7d71518');\n",
              "          const dataTable =\n",
              "            await google.colab.kernel.invokeFunction('convertToInteractive',\n",
              "                                                     [key], {});\n",
              "          if (!dataTable) return;\n",
              "\n",
              "          const docLinkHtml = 'Like what you see? Visit the ' +\n",
              "            '<a target=\"_blank\" href=https://colab.research.google.com/notebooks/data_table.ipynb>data table notebook</a>'\n",
              "            + ' to learn more about interactive tables.';\n",
              "          element.innerHTML = '';\n",
              "          dataTable['output_type'] = 'display_data';\n",
              "          await google.colab.output.renderOutput(dataTable, element);\n",
              "          const docLink = document.createElement('div');\n",
              "          docLink.innerHTML = docLinkHtml;\n",
              "          element.appendChild(docLink);\n",
              "        }\n",
              "      </script>\n",
              "    </div>\n",
              "  </div>\n",
              "  "
            ]
          },
          "metadata": {}
        }
      ]
    },
    {
      "cell_type": "markdown",
      "source": [
        "Y training should have 1102 records (75% original data); Y test should have 368 records (25% original data). \n",
        "\n"
      ],
      "metadata": {
        "id": "64lV16cSYqRA"
      }
    },
    {
      "cell_type": "code",
      "source": [
        "print(f'Y training data dimensions {y_train.shape}')\n",
        "print(f'Y training data:')\n",
        "display(y_train.head())\n",
        "\n",
        "print(f'Y testing data dimensions {y_test.shape}')\n",
        "print(f'Y testing  data:')\n",
        "display(y_test.head())"
      ],
      "metadata": {
        "colab": {
          "base_uri": "https://localhost:8080/",
          "height": 295
        },
        "id": "WpvCPm0EX1rj",
        "outputId": "c39170cb-4894-4c20-85ba-d2aa81832ca0"
      },
      "execution_count": 19,
      "outputs": [
        {
          "output_type": "stream",
          "name": "stdout",
          "text": [
            "Y training data dimensions (1102,)\n",
            "Y training data:\n"
          ]
        },
        {
          "output_type": "display_data",
          "data": {
            "text/plain": [
              "17      No\n",
              "976     No\n",
              "1357    No\n",
              "143     No\n",
              "1435    No\n",
              "Name: Attrition, dtype: object"
            ]
          },
          "metadata": {}
        },
        {
          "output_type": "stream",
          "name": "stdout",
          "text": [
            "Y testing data dimensions (368,)\n",
            "Y testing  data:\n"
          ]
        },
        {
          "output_type": "display_data",
          "data": {
            "text/plain": [
              "1050    No\n",
              "1345    No\n",
              "429     No\n",
              "924     No\n",
              "852     No\n",
              "Name: Attrition, dtype: object"
            ]
          },
          "metadata": {}
        }
      ]
    },
    {
      "cell_type": "markdown",
      "source": [
        "Out of curiosity, want to know the ratio of Yes / No in both Y training and Y testing datasets. "
      ],
      "metadata": {
        "id": "2meB-sCMY83m"
      }
    },
    {
      "cell_type": "code",
      "source": [
        "y_train.value_counts()"
      ],
      "metadata": {
        "colab": {
          "base_uri": "https://localhost:8080/"
        },
        "id": "jRpyUsW2ZEk3",
        "outputId": "658e9007-0db3-4809-b1ec-edfb31bd29d6"
      },
      "execution_count": 25,
      "outputs": [
        {
          "output_type": "execute_result",
          "data": {
            "text/plain": [
              "No     924\n",
              "Yes    178\n",
              "Name: Attrition, dtype: int64"
            ]
          },
          "metadata": {},
          "execution_count": 25
        }
      ]
    },
    {
      "cell_type": "code",
      "source": [
        "y_test.value_counts()"
      ],
      "metadata": {
        "colab": {
          "base_uri": "https://localhost:8080/"
        },
        "id": "SDXxFg5pZ4_1",
        "outputId": "180aebef-263b-4085-c35b-31613f7cb4e3"
      },
      "execution_count": 26,
      "outputs": [
        {
          "output_type": "execute_result",
          "data": {
            "text/plain": [
              "No     309\n",
              "Yes     59\n",
              "Name: Attrition, dtype: int64"
            ]
          },
          "metadata": {},
          "execution_count": 26
        }
      ]
    },
    {
      "cell_type": "markdown",
      "source": [
        "### [20 Points] Time to build the pipeline. \n",
        "Now I'm going to build the training pipeline for the models. This is something we need to repeat multiple times so it's good to modularize the code. DRY, right? \n",
        "\n",
        "At this stage, we could impute any values that were missing, but there were actually no null values in the original data. Another thing we can do here is encode categorical values. "
      ],
      "metadata": {
        "id": "eCMMXHq9Z_pl"
      }
    },
    {
      "cell_type": "code",
      "source": [
        "# create individual pipelines for different data types (categorical \n",
        "# (e.g. education field) vs numerical (e.g. distance from home))\n",
        "# There is no need for an imputation step in either pipeline \n",
        "# since we confirmed that there were no null values. \n",
        "categorical_pipeline = Pipeline(\n",
        "    steps=[('onehot_cat', OneHotEncoder(drop='if_binary'))]\n",
        ")\n",
        "numerical_pipeline = Pipeline(\n",
        "    steps=[('scale_num', StandardScaler())]\n",
        ")"
      ],
      "metadata": {
        "id": "2wi5TG2wdygi"
      },
      "execution_count": 28,
      "outputs": []
    },
    {
      "cell_type": "markdown",
      "source": [
        "#### Preprocessing Pipeline\n",
        "Transform raw data into an understandable format. It is also an important step in data mining as we cannot work with raw data. \n",
        "\n",
        "This is a pipeline that will organize the columns into categorical vs numerical types, and pipe the respective groups into their corresponding pipelines that were set up above."
      ],
      "metadata": {
        "id": "9Im2FqKEfHz-"
      }
    },
    {
      "cell_type": "code",
      "source": [
        "# Establish preprocessing pipeline by columns \n",
        "\n",
        "preprocessing_pipeline = ColumnTransformer([\n",
        "                                            ('categorical_pipeline', categorical_pipeline, make_column_selector(dtype_include=object)),\n",
        "                                            ('numerical_pipeline', numerical_pipeline, make_column_selector(dtype_include=np.number)), \n",
        "], remainder='passthrough')\n",
        "\n"
      ],
      "metadata": {
        "id": "0uLuiK_te8FH"
      },
      "execution_count": 29,
      "outputs": []
    },
    {
      "cell_type": "markdown",
      "source": [
        "#### Now for the whole pipeline\n",
        "We have our preprocessing pipeline organizing / transforming the columns and piping them into their correct pipelines (categorical vs numerical). Now we need a parent pipeline for the preprocessing pipeline. \n"
      ],
      "metadata": {
        "id": "AgkyB9EWgbeU"
      }
    },
    {
      "cell_type": "code",
      "source": [
        "whole_pipeline = Pipeline(steps=[\n",
        "                        ('preprocessing_pipeline', preprocessing_pipeline),\n",
        "                        ('model', LogisticRegression(penalty='elasticnet', solver='saga', tol=0.01))\n",
        "                        ])"
      ],
      "metadata": {
        "id": "gDzp8z09gsCh"
      },
      "execution_count": 32,
      "outputs": []
    },
    {
      "cell_type": "markdown",
      "source": [
        "#### Visualization of Pipeline"
      ],
      "metadata": {
        "id": "88auUQ3lhCCI"
      }
    },
    {
      "cell_type": "code",
      "source": [
        "#visualization of the pipeline steps \n",
        "with config_context(display='diagram'):\n",
        "    display(whole_pipeline)"
      ],
      "metadata": {
        "colab": {
          "base_uri": "https://localhost:8080/",
          "height": 215
        },
        "id": "9DCxn8aahE7Q",
        "outputId": "073ac0f2-ce39-4bc4-879c-bf22b4d3b63c"
      },
      "execution_count": 33,
      "outputs": [
        {
          "output_type": "display_data",
          "data": {
            "text/plain": [
              "Pipeline(steps=[('preprocessing_pipeline',\n",
              "                 ColumnTransformer(remainder='passthrough',\n",
              "                                   transformers=[('categorical_pipeline',\n",
              "                                                  Pipeline(steps=[('onehot_cat',\n",
              "                                                                   OneHotEncoder(drop='if_binary'))]),\n",
              "                                                  <sklearn.compose._column_transformer.make_column_selector object at 0x7f96e9311510>),\n",
              "                                                 ('numerical_pipeline',\n",
              "                                                  Pipeline(steps=[('scale_num',\n",
              "                                                                   StandardScaler())]),\n",
              "                                                  <sklearn.compose._column_transformer.make_column_selector object at 0x7f96e9246050>)])),\n",
              "                ('model',\n",
              "                 LogisticRegression(penalty='elasticnet', solver='saga',\n",
              "                                    tol=0.01))])"
            ],
            "text/html": [
              "<style>#sk-09c7d377-5323-4793-a9e1-632b97e38c4e {color: black;background-color: white;}#sk-09c7d377-5323-4793-a9e1-632b97e38c4e pre{padding: 0;}#sk-09c7d377-5323-4793-a9e1-632b97e38c4e div.sk-toggleable {background-color: white;}#sk-09c7d377-5323-4793-a9e1-632b97e38c4e label.sk-toggleable__label {cursor: pointer;display: block;width: 100%;margin-bottom: 0;padding: 0.3em;box-sizing: border-box;text-align: center;}#sk-09c7d377-5323-4793-a9e1-632b97e38c4e label.sk-toggleable__label-arrow:before {content: \"▸\";float: left;margin-right: 0.25em;color: #696969;}#sk-09c7d377-5323-4793-a9e1-632b97e38c4e label.sk-toggleable__label-arrow:hover:before {color: black;}#sk-09c7d377-5323-4793-a9e1-632b97e38c4e div.sk-estimator:hover label.sk-toggleable__label-arrow:before {color: black;}#sk-09c7d377-5323-4793-a9e1-632b97e38c4e div.sk-toggleable__content {max-height: 0;max-width: 0;overflow: hidden;text-align: left;background-color: #f0f8ff;}#sk-09c7d377-5323-4793-a9e1-632b97e38c4e div.sk-toggleable__content pre {margin: 0.2em;color: black;border-radius: 0.25em;background-color: #f0f8ff;}#sk-09c7d377-5323-4793-a9e1-632b97e38c4e input.sk-toggleable__control:checked~div.sk-toggleable__content {max-height: 200px;max-width: 100%;overflow: auto;}#sk-09c7d377-5323-4793-a9e1-632b97e38c4e input.sk-toggleable__control:checked~label.sk-toggleable__label-arrow:before {content: \"▾\";}#sk-09c7d377-5323-4793-a9e1-632b97e38c4e div.sk-estimator input.sk-toggleable__control:checked~label.sk-toggleable__label {background-color: #d4ebff;}#sk-09c7d377-5323-4793-a9e1-632b97e38c4e div.sk-label input.sk-toggleable__control:checked~label.sk-toggleable__label {background-color: #d4ebff;}#sk-09c7d377-5323-4793-a9e1-632b97e38c4e input.sk-hidden--visually {border: 0;clip: rect(1px 1px 1px 1px);clip: rect(1px, 1px, 1px, 1px);height: 1px;margin: -1px;overflow: hidden;padding: 0;position: absolute;width: 1px;}#sk-09c7d377-5323-4793-a9e1-632b97e38c4e div.sk-estimator {font-family: monospace;background-color: #f0f8ff;border: 1px dotted black;border-radius: 0.25em;box-sizing: border-box;margin-bottom: 0.5em;}#sk-09c7d377-5323-4793-a9e1-632b97e38c4e div.sk-estimator:hover {background-color: #d4ebff;}#sk-09c7d377-5323-4793-a9e1-632b97e38c4e div.sk-parallel-item::after {content: \"\";width: 100%;border-bottom: 1px solid gray;flex-grow: 1;}#sk-09c7d377-5323-4793-a9e1-632b97e38c4e div.sk-label:hover label.sk-toggleable__label {background-color: #d4ebff;}#sk-09c7d377-5323-4793-a9e1-632b97e38c4e div.sk-serial::before {content: \"\";position: absolute;border-left: 1px solid gray;box-sizing: border-box;top: 2em;bottom: 0;left: 50%;}#sk-09c7d377-5323-4793-a9e1-632b97e38c4e div.sk-serial {display: flex;flex-direction: column;align-items: center;background-color: white;padding-right: 0.2em;padding-left: 0.2em;}#sk-09c7d377-5323-4793-a9e1-632b97e38c4e div.sk-item {z-index: 1;}#sk-09c7d377-5323-4793-a9e1-632b97e38c4e div.sk-parallel {display: flex;align-items: stretch;justify-content: center;background-color: white;}#sk-09c7d377-5323-4793-a9e1-632b97e38c4e div.sk-parallel::before {content: \"\";position: absolute;border-left: 1px solid gray;box-sizing: border-box;top: 2em;bottom: 0;left: 50%;}#sk-09c7d377-5323-4793-a9e1-632b97e38c4e div.sk-parallel-item {display: flex;flex-direction: column;position: relative;background-color: white;}#sk-09c7d377-5323-4793-a9e1-632b97e38c4e div.sk-parallel-item:first-child::after {align-self: flex-end;width: 50%;}#sk-09c7d377-5323-4793-a9e1-632b97e38c4e div.sk-parallel-item:last-child::after {align-self: flex-start;width: 50%;}#sk-09c7d377-5323-4793-a9e1-632b97e38c4e div.sk-parallel-item:only-child::after {width: 0;}#sk-09c7d377-5323-4793-a9e1-632b97e38c4e div.sk-dashed-wrapped {border: 1px dashed gray;margin: 0 0.4em 0.5em 0.4em;box-sizing: border-box;padding-bottom: 0.4em;background-color: white;position: relative;}#sk-09c7d377-5323-4793-a9e1-632b97e38c4e div.sk-label label {font-family: monospace;font-weight: bold;background-color: white;display: inline-block;line-height: 1.2em;}#sk-09c7d377-5323-4793-a9e1-632b97e38c4e div.sk-label-container {position: relative;z-index: 2;text-align: center;}#sk-09c7d377-5323-4793-a9e1-632b97e38c4e div.sk-container {/* jupyter's `normalize.less` sets `[hidden] { display: none; }` but bootstrap.min.css set `[hidden] { display: none !important; }` so we also need the `!important` here to be able to override the default hidden behavior on the sphinx rendered scikit-learn.org. See: https://github.com/scikit-learn/scikit-learn/issues/21755 */display: inline-block !important;position: relative;}#sk-09c7d377-5323-4793-a9e1-632b97e38c4e div.sk-text-repr-fallback {display: none;}</style><div id=\"sk-09c7d377-5323-4793-a9e1-632b97e38c4e\" class=\"sk-top-container\"><div class=\"sk-text-repr-fallback\"><pre>Pipeline(steps=[(&#x27;preprocessing_pipeline&#x27;,\n",
              "                 ColumnTransformer(remainder=&#x27;passthrough&#x27;,\n",
              "                                   transformers=[(&#x27;categorical_pipeline&#x27;,\n",
              "                                                  Pipeline(steps=[(&#x27;onehot_cat&#x27;,\n",
              "                                                                   OneHotEncoder(drop=&#x27;if_binary&#x27;))]),\n",
              "                                                  &lt;sklearn.compose._column_transformer.make_column_selector object at 0x7f96e9311510&gt;),\n",
              "                                                 (&#x27;numerical_pipeline&#x27;,\n",
              "                                                  Pipeline(steps=[(&#x27;scale_num&#x27;,\n",
              "                                                                   StandardScaler())]),\n",
              "                                                  &lt;sklearn.compose._column_transformer.make_column_selector object at 0x7f96e9246050&gt;)])),\n",
              "                (&#x27;model&#x27;,\n",
              "                 LogisticRegression(penalty=&#x27;elasticnet&#x27;, solver=&#x27;saga&#x27;,\n",
              "                                    tol=0.01))])</pre><b>Please rerun this cell to show the HTML repr or trust the notebook.</b></div><div class=\"sk-container\" hidden><div class=\"sk-item sk-dashed-wrapped\"><div class=\"sk-label-container\"><div class=\"sk-label sk-toggleable\"><input class=\"sk-toggleable__control sk-hidden--visually\" id=\"af7f5f9a-5f6a-436c-879a-680e4b6df847\" type=\"checkbox\" ><label for=\"af7f5f9a-5f6a-436c-879a-680e4b6df847\" class=\"sk-toggleable__label sk-toggleable__label-arrow\">Pipeline</label><div class=\"sk-toggleable__content\"><pre>Pipeline(steps=[(&#x27;preprocessing_pipeline&#x27;,\n",
              "                 ColumnTransformer(remainder=&#x27;passthrough&#x27;,\n",
              "                                   transformers=[(&#x27;categorical_pipeline&#x27;,\n",
              "                                                  Pipeline(steps=[(&#x27;onehot_cat&#x27;,\n",
              "                                                                   OneHotEncoder(drop=&#x27;if_binary&#x27;))]),\n",
              "                                                  &lt;sklearn.compose._column_transformer.make_column_selector object at 0x7f96e9311510&gt;),\n",
              "                                                 (&#x27;numerical_pipeline&#x27;,\n",
              "                                                  Pipeline(steps=[(&#x27;scale_num&#x27;,\n",
              "                                                                   StandardScaler())]),\n",
              "                                                  &lt;sklearn.compose._column_transformer.make_column_selector object at 0x7f96e9246050&gt;)])),\n",
              "                (&#x27;model&#x27;,\n",
              "                 LogisticRegression(penalty=&#x27;elasticnet&#x27;, solver=&#x27;saga&#x27;,\n",
              "                                    tol=0.01))])</pre></div></div></div><div class=\"sk-serial\"><div class=\"sk-item sk-dashed-wrapped\"><div class=\"sk-label-container\"><div class=\"sk-label sk-toggleable\"><input class=\"sk-toggleable__control sk-hidden--visually\" id=\"54112ea1-25b1-472d-8ca7-e4fb4a13c632\" type=\"checkbox\" ><label for=\"54112ea1-25b1-472d-8ca7-e4fb4a13c632\" class=\"sk-toggleable__label sk-toggleable__label-arrow\">preprocessing_pipeline: ColumnTransformer</label><div class=\"sk-toggleable__content\"><pre>ColumnTransformer(remainder=&#x27;passthrough&#x27;,\n",
              "                  transformers=[(&#x27;categorical_pipeline&#x27;,\n",
              "                                 Pipeline(steps=[(&#x27;onehot_cat&#x27;,\n",
              "                                                  OneHotEncoder(drop=&#x27;if_binary&#x27;))]),\n",
              "                                 &lt;sklearn.compose._column_transformer.make_column_selector object at 0x7f96e9311510&gt;),\n",
              "                                (&#x27;numerical_pipeline&#x27;,\n",
              "                                 Pipeline(steps=[(&#x27;scale_num&#x27;,\n",
              "                                                  StandardScaler())]),\n",
              "                                 &lt;sklearn.compose._column_transformer.make_column_selector object at 0x7f96e9246050&gt;)])</pre></div></div></div><div class=\"sk-parallel\"><div class=\"sk-parallel-item\"><div class=\"sk-item\"><div class=\"sk-label-container\"><div class=\"sk-label sk-toggleable\"><input class=\"sk-toggleable__control sk-hidden--visually\" id=\"83c3440a-b865-487c-8e02-ae9293888aa9\" type=\"checkbox\" ><label for=\"83c3440a-b865-487c-8e02-ae9293888aa9\" class=\"sk-toggleable__label sk-toggleable__label-arrow\">categorical_pipeline</label><div class=\"sk-toggleable__content\"><pre>&lt;sklearn.compose._column_transformer.make_column_selector object at 0x7f96e9311510&gt;</pre></div></div></div><div class=\"sk-serial\"><div class=\"sk-item\"><div class=\"sk-serial\"><div class=\"sk-item\"><div class=\"sk-estimator sk-toggleable\"><input class=\"sk-toggleable__control sk-hidden--visually\" id=\"e8a2dafe-338f-46dd-b696-31e7c70396c8\" type=\"checkbox\" ><label for=\"e8a2dafe-338f-46dd-b696-31e7c70396c8\" class=\"sk-toggleable__label sk-toggleable__label-arrow\">OneHotEncoder</label><div class=\"sk-toggleable__content\"><pre>OneHotEncoder(drop=&#x27;if_binary&#x27;)</pre></div></div></div></div></div></div></div></div><div class=\"sk-parallel-item\"><div class=\"sk-item\"><div class=\"sk-label-container\"><div class=\"sk-label sk-toggleable\"><input class=\"sk-toggleable__control sk-hidden--visually\" id=\"996d6545-6164-4bbb-a05b-ada7a0ea4c56\" type=\"checkbox\" ><label for=\"996d6545-6164-4bbb-a05b-ada7a0ea4c56\" class=\"sk-toggleable__label sk-toggleable__label-arrow\">numerical_pipeline</label><div class=\"sk-toggleable__content\"><pre>&lt;sklearn.compose._column_transformer.make_column_selector object at 0x7f96e9246050&gt;</pre></div></div></div><div class=\"sk-serial\"><div class=\"sk-item\"><div class=\"sk-serial\"><div class=\"sk-item\"><div class=\"sk-estimator sk-toggleable\"><input class=\"sk-toggleable__control sk-hidden--visually\" id=\"758926ad-7087-48da-8858-d52a0fe3ce53\" type=\"checkbox\" ><label for=\"758926ad-7087-48da-8858-d52a0fe3ce53\" class=\"sk-toggleable__label sk-toggleable__label-arrow\">StandardScaler</label><div class=\"sk-toggleable__content\"><pre>StandardScaler()</pre></div></div></div></div></div></div></div></div><div class=\"sk-parallel-item\"><div class=\"sk-item\"><div class=\"sk-label-container\"><div class=\"sk-label sk-toggleable\"><input class=\"sk-toggleable__control sk-hidden--visually\" id=\"d33f1fad-f7a4-4561-9eb5-3af216482719\" type=\"checkbox\" ><label for=\"d33f1fad-f7a4-4561-9eb5-3af216482719\" class=\"sk-toggleable__label sk-toggleable__label-arrow\">remainder</label><div class=\"sk-toggleable__content\"><pre></pre></div></div></div><div class=\"sk-serial\"><div class=\"sk-item\"><div class=\"sk-estimator sk-toggleable\"><input class=\"sk-toggleable__control sk-hidden--visually\" id=\"aec9eb9e-7cd9-42fd-aae2-e4b96d15e710\" type=\"checkbox\" ><label for=\"aec9eb9e-7cd9-42fd-aae2-e4b96d15e710\" class=\"sk-toggleable__label sk-toggleable__label-arrow\">passthrough</label><div class=\"sk-toggleable__content\"><pre>passthrough</pre></div></div></div></div></div></div></div></div><div class=\"sk-item\"><div class=\"sk-estimator sk-toggleable\"><input class=\"sk-toggleable__control sk-hidden--visually\" id=\"09ece914-0318-4795-988c-b749dc05016c\" type=\"checkbox\" ><label for=\"09ece914-0318-4795-988c-b749dc05016c\" class=\"sk-toggleable__label sk-toggleable__label-arrow\">LogisticRegression</label><div class=\"sk-toggleable__content\"><pre>LogisticRegression(penalty=&#x27;elasticnet&#x27;, solver=&#x27;saga&#x27;, tol=0.01)</pre></div></div></div></div></div></div></div>"
            ]
          },
          "metadata": {}
        }
      ]
    },
    {
      "cell_type": "markdown",
      "source": [
        "### [10] Cross-validation with hyperparameter tuning. (with extra comparison of random search vs grid search algorithms)\n",
        "We now have our pipelines set up, so we want to evaluate the model's performance. Definition pulled from Wikipedia: \n",
        "*Cross-validation, sometimes called rotation estimation or out-of-sample testing, is any of various similar model validation techniques for assessing how the results of a statistical analysis will generalize to an independent data set*\n"
      ],
      "metadata": {
        "id": "toNfcl2PhhkJ"
      }
    },
    {
      "cell_type": "markdown",
      "source": [
        "Hyperparameter tuning is one of the most important parts of a machine learning pipeline. Why should we tune the hyperparameters of a model? Because we don’t really know their optimal values in advance. A model with different hyperparameters is, actually, a different model so it may have a lower performance. "
      ],
      "metadata": {
        "id": "OpqtKuTZiGHF"
      }
    },
    {
      "cell_type": "markdown",
      "source": [
        "#### Grid search\n",
        "**Grid search** is the simplest algorithm for hyperparameter tuning. With this algorithm, we start by dividing the domain of the hyperparameters into a discrete grid. Then, we try every combination of values of this grid, calculating some performance metrics using cross-validation. The point of the grid that maximizes the average value in cross-validation, is the optimal combination of values for the hyperparameters."
      ],
      "metadata": {
        "id": "Kd3v-tOnig1k"
      }
    },
    {
      "cell_type": "code",
      "source": [
        "from sklearn import pipeline\n",
        "tuning_grid = {\n",
        "    'model__l1_ratio': np.linspace(0,1,5),\n",
        "    'model__C': np.logspace(-1, 6, 3)\n",
        "}\n",
        "grid_search = GridSearchCV(whole_pipeline, param_grid = tuning_grid, cv=5, verbose=1, return_train_score=True)  "
      ],
      "metadata": {
        "id": "KG7Qua_Lh_XW"
      },
      "execution_count": 48,
      "outputs": []
    },
    {
      "cell_type": "code",
      "source": [
        "tuning_grid"
      ],
      "metadata": {
        "colab": {
          "base_uri": "https://localhost:8080/"
        },
        "id": "r1Fh_hnTjWQu",
        "outputId": "66bba295-3878-4e9f-a8fe-92e82e6bf5f6"
      },
      "execution_count": 49,
      "outputs": [
        {
          "output_type": "execute_result",
          "data": {
            "text/plain": [
              "{'model__C': array([1.00000000e-01, 3.16227766e+02, 1.00000000e+06]),\n",
              " 'model__l1_ratio': array([0.  , 0.25, 0.5 , 0.75, 1.  ])}"
            ]
          },
          "metadata": {},
          "execution_count": 49
        }
      ]
    },
    {
      "cell_type": "markdown",
      "source": [
        "#### How fitting. \n",
        "We now call the fit() method on the grid search object. When we do this, Python will actually test all combinations of the values in the lists above from the tuning grid and will pick the combination producing the highest score. This could take some time."
      ],
      "metadata": {
        "id": "sGO5MUkPjhpS"
      }
    },
    {
      "cell_type": "code",
      "source": [
        "grid_search.fit(x_train,y_train)"
      ],
      "metadata": {
        "colab": {
          "base_uri": "https://localhost:8080/"
        },
        "id": "8QTErMDTja5B",
        "outputId": "82aebd3f-f416-48a5-e3bb-5c7e1b1e9f49"
      },
      "execution_count": 57,
      "outputs": [
        {
          "output_type": "stream",
          "name": "stdout",
          "text": [
            "Fitting 5 folds for each of 15 candidates, totalling 75 fits\n"
          ]
        },
        {
          "output_type": "execute_result",
          "data": {
            "text/plain": [
              "GridSearchCV(cv=5,\n",
              "             estimator=Pipeline(steps=[('preprocessing_pipeline',\n",
              "                                        ColumnTransformer(remainder='passthrough',\n",
              "                                                          transformers=[('categorical_pipeline',\n",
              "                                                                         Pipeline(steps=[('onehot_cat',\n",
              "                                                                                          OneHotEncoder(drop='if_binary'))]),\n",
              "                                                                         <sklearn.compose._column_transformer.make_column_selector object at 0x7f96e9311510>),\n",
              "                                                                        ('numerical_pipeline',\n",
              "                                                                         Pipeline(steps=[('scale_num',\n",
              "                                                                                          StandardScaler())]),\n",
              "                                                                         <sklearn.compose._column_transformer.make_column_selector object at 0x7f96e9246050>)])),\n",
              "                                       ('model',\n",
              "                                        LogisticRegression(penalty='elasticnet',\n",
              "                                                           solver='saga',\n",
              "                                                           tol=0.01))]),\n",
              "             param_grid={'model__C': array([1.00000000e-01, 3.16227766e+02, 1.00000000e+06]),\n",
              "                         'model__l1_ratio': array([0.  , 0.25, 0.5 , 0.75, 1.  ])},\n",
              "             return_train_score=True, verbose=1)"
            ]
          },
          "metadata": {},
          "execution_count": 57
        }
      ]
    },
    {
      "cell_type": "markdown",
      "source": [
        "From the output above, we can see that the grid search has done 75 fits. Here is how we can identify the best combination found as well as the best score that was achieved by that combination."
      ],
      "metadata": {
        "id": "iUix3Mepk28H"
      }
    },
    {
      "cell_type": "code",
      "source": [
        "grid_search.best_params_\n",
        "grid_search.best_score_\n",
        "grid_search.best_estimator_"
      ],
      "metadata": {
        "colab": {
          "base_uri": "https://localhost:8080/"
        },
        "id": "1PBPtTbvlHCt",
        "outputId": "74144d23-9bc3-429b-c4ed-77a7959216e9"
      },
      "execution_count": 58,
      "outputs": [
        {
          "output_type": "execute_result",
          "data": {
            "text/plain": [
              "Pipeline(steps=[('preprocessing_pipeline',\n",
              "                 ColumnTransformer(remainder='passthrough',\n",
              "                                   transformers=[('categorical_pipeline',\n",
              "                                                  Pipeline(steps=[('onehot_cat',\n",
              "                                                                   OneHotEncoder(drop='if_binary'))]),\n",
              "                                                  <sklearn.compose._column_transformer.make_column_selector object at 0x7f96e66c8e50>),\n",
              "                                                 ('numerical_pipeline',\n",
              "                                                  Pipeline(steps=[('scale_num',\n",
              "                                                                   StandardScaler())]),\n",
              "                                                  <sklearn.compose._column_transformer.make_column_selector object at 0x7f96e66c8890>)])),\n",
              "                ('model',\n",
              "                 LogisticRegression(C=316.22776601683796, l1_ratio=1.0,\n",
              "                                    penalty='elasticnet', solver='saga',\n",
              "                                    tol=0.01))])"
            ]
          },
          "metadata": {},
          "execution_count": 58
        }
      ]
    },
    {
      "cell_type": "markdown",
      "source": [
        "#### Random search. \n",
        "I want to try a random search as well (an alternative to the grid search algorithm for hyperparameter tuning). With random search, it's similar to grid search, but rather than using the whole grid, the algorithm only tests a randomly selected subset of the points/combinations on the grid. Smaller subset means less accuracy, but faster processing. The larger the subset, the closer to an actual grid search (since the whole set is all points on the grid and thus implies a grid search). \n",
        "##### When to use?\n",
        "According to [this resource](https://www.yourdatateacher.com/2021/05/19/hyperparameter-tuning-grid-search-and-random-search/), random search hyperparameter tuning can be useful when you have many hyperparameters with a fine-grained grid of values, since this would produce a nightmarishly complex grid search algorithm. \n"
      ],
      "metadata": {
        "id": "RsS9CuOGllSs"
      }
    },
    {
      "cell_type": "code",
      "source": [
        "from sklearn.model_selection import train_test_split, RandomizedSearchCV\n",
        "random_search = RandomizedSearchCV(\n",
        "    whole_pipeline, param_distributions=tuning_grid, cv=5, verbose=1, return_train_score=True\n",
        ")\n",
        "random_search.fit(x_train,y_train)"
      ],
      "metadata": {
        "colab": {
          "base_uri": "https://localhost:8080/"
        },
        "id": "2meZ2VsZmdtr",
        "outputId": "c64623ac-7d54-4f05-894d-3de5af61a3ad"
      },
      "execution_count": 52,
      "outputs": [
        {
          "output_type": "stream",
          "name": "stdout",
          "text": [
            "Fitting 5 folds for each of 10 candidates, totalling 50 fits\n"
          ]
        },
        {
          "output_type": "execute_result",
          "data": {
            "text/plain": [
              "RandomizedSearchCV(cv=5,\n",
              "                   estimator=Pipeline(steps=[('preprocessing_pipeline',\n",
              "                                              ColumnTransformer(remainder='passthrough',\n",
              "                                                                transformers=[('categorical_pipeline',\n",
              "                                                                               Pipeline(steps=[('onehot_cat',\n",
              "                                                                                                OneHotEncoder(drop='if_binary'))]),\n",
              "                                                                               <sklearn.compose._column_transformer.make_column_selector object at 0x7f96e9311510>),\n",
              "                                                                              ('numerical_pipeline',\n",
              "                                                                               Pipeline(steps=[('scale_num',\n",
              "                                                                                                StandardScaler())]),\n",
              "                                                                               <sklearn.compose._column_transformer.make_column_selector object at 0x7f96e9246050>)])),\n",
              "                                             ('model',\n",
              "                                              LogisticRegression(penalty='elasticnet',\n",
              "                                                                 solver='saga',\n",
              "                                                                 tol=0.01))]),\n",
              "                   param_distributions={'model__C': array([1.00000000e-01, 3.16227766e+02, 1.00000000e+06]),\n",
              "                                        'model__l1_ratio': array([0.  , 0.25, 0.5 , 0.75, 1.  ])},\n",
              "                   return_train_score=True, verbose=1)"
            ]
          },
          "metadata": {},
          "execution_count": 52
        }
      ]
    },
    {
      "cell_type": "markdown",
      "source": [
        "First, notice that it only totalled 50 fits, rather than 75 fits as with the grid search. \n",
        "Let's see how random search performed compared to grid search. \n"
      ],
      "metadata": {
        "id": "tn_pQTuSmxAa"
      }
    },
    {
      "cell_type": "code",
      "source": [
        "random_search.best_params_\n",
        "random_search.best_score_"
      ],
      "metadata": {
        "colab": {
          "base_uri": "https://localhost:8080/"
        },
        "id": "1Yg6m800m2ip",
        "outputId": "2deaa7fa-eb61-4dd5-b515-05772c47ed43"
      },
      "execution_count": 55,
      "outputs": [
        {
          "output_type": "execute_result",
          "data": {
            "text/plain": [
              "0.8820403126285479"
            ]
          },
          "metadata": {},
          "execution_count": 55
        }
      ]
    },
    {
      "cell_type": "markdown",
      "source": [
        "Pretty much exactly the same, but slightly worse (.8829 with Grid, .8820 with Random). As you would expect. \n",
        "\n",
        "Let's proceed forward using the grid search results."
      ],
      "metadata": {
        "id": "ICz2nDv-n2BQ"
      }
    },
    {
      "cell_type": "markdown",
      "source": [
        ""
      ],
      "metadata": {
        "id": "hjxN4N6YohYs"
      }
    },
    {
      "cell_type": "markdown",
      "source": [
        "### Variable importance\n",
        "Here, we can assess the importance in the selected model to reveal any potential (usable/actionable) insights about the original data. \n",
        "\n",
        "We can use the .classes_ attribute of the grid search object to display the list of classes in the data (the class of a record is what we hope to predict about that record)."
      ],
      "metadata": {
        "id": "6giqaMWHohdj"
      }
    },
    {
      "cell_type": "code",
      "source": [
        "grid_search.classes_"
      ],
      "metadata": {
        "colab": {
          "base_uri": "https://localhost:8080/"
        },
        "id": "XQCkD-yem7lu",
        "outputId": "969a9efe-3be3-4581-87d4-52b9f0780a71"
      },
      "execution_count": 59,
      "outputs": [
        {
          "output_type": "execute_result",
          "data": {
            "text/plain": [
              "array(['No', 'Yes'], dtype=object)"
            ]
          },
          "metadata": {},
          "execution_count": 59
        }
      ]
    },
    {
      "cell_type": "markdown",
      "source": [
        "### Best Estimator\n",
        "We want to begin collecting information from this point from the model that performed the best, which we can obtain from the `grid_search.best_estimator_` attribute!"
      ],
      "metadata": {
        "id": "7pryVsMPpEDi"
      }
    },
    {
      "cell_type": "code",
      "source": [
        "best_estimator_pipeline = grid_search.best_estimator_\n",
        "best_estimator_pipeline"
      ],
      "metadata": {
        "colab": {
          "base_uri": "https://localhost:8080/"
        },
        "id": "dwV4OM0DpDSk",
        "outputId": "97e3908b-8a8b-481c-e87f-005780b0fa34"
      },
      "execution_count": 71,
      "outputs": [
        {
          "output_type": "execute_result",
          "data": {
            "text/plain": [
              "Pipeline(steps=[('preprocessing_pipeline',\n",
              "                 ColumnTransformer(remainder='passthrough',\n",
              "                                   transformers=[('categorical_pipeline',\n",
              "                                                  Pipeline(steps=[('onehot_cat',\n",
              "                                                                   OneHotEncoder(drop='if_binary'))]),\n",
              "                                                  <sklearn.compose._column_transformer.make_column_selector object at 0x7f96e66c8e50>),\n",
              "                                                 ('numerical_pipeline',\n",
              "                                                  Pipeline(steps=[('scale_num',\n",
              "                                                                   StandardScaler())]),\n",
              "                                                  <sklearn.compose._column_transformer.make_column_selector object at 0x7f96e66c8890>)])),\n",
              "                ('model',\n",
              "                 LogisticRegression(C=316.22776601683796, l1_ratio=1.0,\n",
              "                                    penalty='elasticnet', solver='saga',\n",
              "                                    tol=0.01))])"
            ]
          },
          "metadata": {},
          "execution_count": 71
        }
      ]
    },
    {
      "cell_type": "code",
      "source": [
        "model = best_estimator_pipeline['model']\n",
        "model"
      ],
      "metadata": {
        "colab": {
          "base_uri": "https://localhost:8080/"
        },
        "id": "xDEgEXhNpsiD",
        "outputId": "f13ab39b-ca5e-4ec4-9188-1133dfb89892"
      },
      "execution_count": 73,
      "outputs": [
        {
          "output_type": "execute_result",
          "data": {
            "text/plain": [
              "LogisticRegression(C=316.22776601683796, l1_ratio=1.0, penalty='elasticnet',\n",
              "                   solver='saga', tol=0.01)"
            ]
          },
          "metadata": {},
          "execution_count": 73
        }
      ]
    },
    {
      "cell_type": "markdown",
      "source": [
        "#### Coefficients\n",
        "Coefficients represent the relationship between a given feature X and the target Y assuming all other features remain constant. \n",
        "Let's obtain the coefficients of the features in the decision function used by the best estimator pipeline's model."
      ],
      "metadata": {
        "id": "loaCnIEnqWww"
      }
    },
    {
      "cell_type": "code",
      "source": [
        "# .coef_ gives coefficient of the features in the decision function.\n",
        "model.coef_ "
      ],
      "metadata": {
        "colab": {
          "base_uri": "https://localhost:8080/"
        },
        "id": "gNFj-zSYptVh",
        "outputId": "84b94b91-6a02-4773-a3f7-2cec4b60eb35"
      },
      "execution_count": 76,
      "outputs": [
        {
          "output_type": "execute_result",
          "data": {
            "text/plain": [
              "array([[-1.41952614,  0.63616653, -0.2323108 , -0.23328684, -0.74635592,\n",
              "        -0.03189125,  0.02811561, -0.29511134, -0.01469757, -0.6614345 ,\n",
              "        -0.45959132,  0.38912233,  0.32509078, -0.45280071,  0.08545312,\n",
              "         1.02487651, -0.40848471, -0.78879053, -0.8655333 ,  0.0214759 ,\n",
              "        -0.05944241,  0.43376785, -1.03983214, -0.49415161,  0.51834157,\n",
              "        -1.01567169,  1.869014  , -0.29645391, -0.11538969,  0.30133802,\n",
              "        -0.16918493,  0.        , -0.0283568 , -0.45253065,  0.03968132,\n",
              "        -0.33404231, -0.13635701, -0.3406428 , -0.00786779, -0.05982368,\n",
              "         0.44606964,  0.06357257, -0.08226345, -0.20917304,  0.        ,\n",
              "         0.03035557, -0.42202488, -0.18623937, -0.25833186,  0.52537603,\n",
              "        -0.43313329,  0.54756491, -0.48438909]])"
            ]
          },
          "metadata": {},
          "execution_count": 76
        }
      ]
    },
    {
      "cell_type": "code",
      "source": [
        "# This returned a nested array. We want that first nested array element. Let's call it vip\n",
        "vip = model.coef_[0]\n",
        "vip"
      ],
      "metadata": {
        "colab": {
          "base_uri": "https://localhost:8080/"
        },
        "id": "OryLuojKq_6l",
        "outputId": "cdba2307-2b1c-4518-fdfb-95aeb0a3a0dc"
      },
      "execution_count": 77,
      "outputs": [
        {
          "output_type": "execute_result",
          "data": {
            "text/plain": [
              "array([-1.41952614,  0.63616653, -0.2323108 , -0.23328684, -0.74635592,\n",
              "       -0.03189125,  0.02811561, -0.29511134, -0.01469757, -0.6614345 ,\n",
              "       -0.45959132,  0.38912233,  0.32509078, -0.45280071,  0.08545312,\n",
              "        1.02487651, -0.40848471, -0.78879053, -0.8655333 ,  0.0214759 ,\n",
              "       -0.05944241,  0.43376785, -1.03983214, -0.49415161,  0.51834157,\n",
              "       -1.01567169,  1.869014  , -0.29645391, -0.11538969,  0.30133802,\n",
              "       -0.16918493,  0.        , -0.0283568 , -0.45253065,  0.03968132,\n",
              "       -0.33404231, -0.13635701, -0.3406428 , -0.00786779, -0.05982368,\n",
              "        0.44606964,  0.06357257, -0.08226345, -0.20917304,  0.        ,\n",
              "        0.03035557, -0.42202488, -0.18623937, -0.25833186,  0.52537603,\n",
              "       -0.43313329,  0.54756491, -0.48438909])"
            ]
          },
          "metadata": {},
          "execution_count": 77
        }
      ]
    },
    {
      "cell_type": "markdown",
      "source": [
        "Get the names of the categorical columns."
      ],
      "metadata": {
        "id": "Wfpt8WXKrqMU"
      }
    },
    {
      "cell_type": "code",
      "source": [
        "categorical_names = grid_search.best_estimator_.named_steps['preprocessing_pipeline'].transformers_[0][1].named_steps['onehot_cat'].get_feature_names_out()\n",
        "categorical_names\n"
      ],
      "metadata": {
        "colab": {
          "base_uri": "https://localhost:8080/"
        },
        "id": "xlOmBNx4rOK0",
        "outputId": "cedbf707-547b-4181-9e2d-981319c3bfb6"
      },
      "execution_count": 79,
      "outputs": [
        {
          "output_type": "execute_result",
          "data": {
            "text/plain": [
              "array(['BusinessTravel_Non-Travel', 'BusinessTravel_Travel_Frequently',\n",
              "       'BusinessTravel_Travel_Rarely', 'Department_Human Resources',\n",
              "       'Department_Research & Development', 'Department_Sales',\n",
              "       'EducationField_Human Resources', 'EducationField_Life Sciences',\n",
              "       'EducationField_Marketing', 'EducationField_Medical',\n",
              "       'EducationField_Other', 'EducationField_Technical Degree',\n",
              "       'Gender_Male', 'JobRole_Healthcare Representative',\n",
              "       'JobRole_Human Resources', 'JobRole_Laboratory Technician',\n",
              "       'JobRole_Manager', 'JobRole_Manufacturing Director',\n",
              "       'JobRole_Research Director', 'JobRole_Research Scientist',\n",
              "       'JobRole_Sales Executive', 'JobRole_Sales Representative',\n",
              "       'MaritalStatus_Divorced', 'MaritalStatus_Married',\n",
              "       'MaritalStatus_Single', 'Over18_Y', 'OverTime_Yes'], dtype=object)"
            ]
          },
          "metadata": {},
          "execution_count": 79
        }
      ]
    },
    {
      "cell_type": "markdown",
      "source": [
        "Get the names of the numerical columns. \n"
      ],
      "metadata": {
        "id": "VRptZBMYr4_z"
      }
    },
    {
      "cell_type": "code",
      "source": [
        "numerical_names = grid_search.best_estimator_.named_steps['preprocessing_pipeline'].transformers_[1][2]\n",
        "numerical_names"
      ],
      "metadata": {
        "colab": {
          "base_uri": "https://localhost:8080/"
        },
        "id": "epN6EpeQr2MT",
        "outputId": "74c66c31-4f1a-44f3-f9b9-8c8798e22d09"
      },
      "execution_count": 80,
      "outputs": [
        {
          "output_type": "execute_result",
          "data": {
            "text/plain": [
              "['Age',\n",
              " 'DailyRate',\n",
              " 'DistanceFromHome',\n",
              " 'Education',\n",
              " 'EmployeeCount',\n",
              " 'EmployeeNumber',\n",
              " 'EnvironmentSatisfaction',\n",
              " 'HourlyRate',\n",
              " 'JobInvolvement',\n",
              " 'JobLevel',\n",
              " 'JobSatisfaction',\n",
              " 'MonthlyIncome',\n",
              " 'MonthlyRate',\n",
              " 'NumCompaniesWorked',\n",
              " 'PercentSalaryHike',\n",
              " 'PerformanceRating',\n",
              " 'RelationshipSatisfaction',\n",
              " 'StandardHours',\n",
              " 'StockOptionLevel',\n",
              " 'TotalWorkingYears',\n",
              " 'TrainingTimesLastYear',\n",
              " 'WorkLifeBalance',\n",
              " 'YearsAtCompany',\n",
              " 'YearsInCurrentRole',\n",
              " 'YearsSinceLastPromotion',\n",
              " 'YearsWithCurrManager']"
            ]
          },
          "metadata": {},
          "execution_count": 80
        }
      ]
    },
    {
      "cell_type": "markdown",
      "source": [
        "Create a data frame with the vip info (information about the coefficients from the best estimator model)"
      ],
      "metadata": {
        "id": "i4WIMpOPsFvi"
      }
    },
    {
      "cell_type": "code",
      "source": [
        "coefficient_info = pd.DataFrame(\n",
        "    {'feature_names': np.hstack([categorical_names, numerical_names]), 'vip': vip}\n",
        ")\n",
        "# get sign and magnitude information\n",
        "coefficient_info = coefficient_info.assign(coefficient_magnitude = abs(coefficient_info['vip']),\n",
        "                                           coefficient_sign = np.sign(coefficient_info['vip']))\n",
        "\n"
      ],
      "metadata": {
        "id": "RppC6_uvsLfc"
      },
      "execution_count": 85,
      "outputs": []
    },
    {
      "cell_type": "markdown",
      "source": [
        "### Plotting time! Yay!\n"
      ],
      "metadata": {
        "id": "-wIWqlvZsugz"
      }
    },
    {
      "cell_type": "code",
      "source": [
        "coefficient_info = coefficient_info.set_index('feature_names').sort_values(by='coefficient_magnitude', ascending=False)\n",
        "sns.barplot(y=coefficient_info.index, x='coefficient_magnitude', hue='coefficient_sign', data=coefficient_info, orient='h', dodge=False)"
      ],
      "metadata": {
        "colab": {
          "base_uri": "https://localhost:8080/",
          "height": 299
        },
        "id": "t0XSO3Xqswjw",
        "outputId": "6aedf4b2-db84-4f95-c198-e94ea9b2e861"
      },
      "execution_count": 86,
      "outputs": [
        {
          "output_type": "execute_result",
          "data": {
            "text/plain": [
              "<matplotlib.axes._subplots.AxesSubplot at 0x7f96eb11c8d0>"
            ]
          },
          "metadata": {},
          "execution_count": 86
        },
        {
          "output_type": "display_data",
          "data": {
            "text/plain": [
              "<Figure size 432x288 with 1 Axes>"
            ],
            "image/png": "[encoded data removed]"
          },
          "metadata": {
            "needs_background": "light"
          }
        }
      ]
    }
  ]
}